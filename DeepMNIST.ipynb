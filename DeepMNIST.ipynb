{
 "cells": [
  {
   "cell_type": "markdown",
   "metadata": {},
   "source": [
    "# Tensor Flow Intro Project: QMNIST classification"
   ]
  },
  {
   "cell_type": "markdown",
   "metadata": {},
   "source": [
    "   ## <i> Gathering and Processing Data </i>"
   ]
  },
  {
   "cell_type": "code",
   "execution_count": 22,
   "metadata": {},
   "outputs": [],
   "source": [
    "#import dependencies\n",
    "import pickle\n",
    "\n",
    "%matplotlib widget\n",
    "%matplotlib inline\n",
    "import matplotlib.pyplot as plot\n",
    "\n",
    "import tensorflow as tf\n",
    "from tensorflow import keras"
   ]
  },
  {
   "cell_type": "code",
   "execution_count": 3,
   "metadata": {},
   "outputs": [],
   "source": [
    "# download the dataset from online (property of NYU)\n",
    "# !wget https://nyu.box.com/shared/static/4914fnt7z3obeupe9xyn7idzz9rsjg4x.pkl -O ./qmnist.pkl"
   ]
  },
  {
   "cell_type": "code",
   "execution_count": 4,
   "metadata": {},
   "outputs": [],
   "source": [
    "# \"Un-pickle\" the data\n",
    "qmnist = pickle.load(open(\"./qmnist.pkl\",\"rb\"))\n",
    "x_train = qmnist['train_data']\n",
    "y_train = qmnist['train_labels']"
   ]
  },
  {
   "cell_type": "code",
   "execution_count": 5,
   "metadata": {},
   "outputs": [],
   "source": [
    "#nice lil print function from class\n",
    "def print_data(train_data, train_labels):\n",
    "    fig, axes = plot.subplots(5, 1, figsize=(6, 6))\n",
    "    fig.tight_layout()\n",
    "\n",
    "    for i in range(5):\n",
    "        idx = i\n",
    "        axes[i].set_title(train_labels[idx])\n",
    "        axes[i].imshow(train_data[idx].reshape(28, 28), cmap='gray')\n",
    "        axes[i].axis('off')\n",
    "\n",
    "    plot.show()"
   ]
  },
  {
   "cell_type": "code",
   "execution_count": 6,
   "metadata": {},
   "outputs": [
    {
     "data": {
      "image/png": "[encoded data removed]",
      "text/plain": [
       "<Figure size 432x432 with 5 Axes>"
      ]
     },
     "metadata": {
      "needs_background": "light"
     },
     "output_type": "display_data"
    }
   ],
   "source": [
    "#sanity check: take a look at some data (each input vector is an image of a hand-drawn decimal digit)\n",
    "print_data(x_train,y_train)"
   ]
  },
  {
   "cell_type": "code",
   "execution_count": 10,
   "metadata": {},
   "outputs": [
    {
     "name": "stdout",
     "output_type": "stream",
     "text": [
      "Epoch 1/10\n",
      "1875/1875 [==============================] - 12s 6ms/step - loss: 0.2267 - accuracy: 0.9313\n",
      "Epoch 2/10\n",
      "1875/1875 [==============================] - 12s 7ms/step - loss: 0.1368 - accuracy: 0.9594\n",
      "Epoch 3/10\n",
      "1875/1875 [==============================] - 12s 7ms/step - loss: 0.1150 - accuracy: 0.9657\n",
      "Epoch 4/10\n",
      "1875/1875 [==============================] - 12s 7ms/step - loss: 0.1052 - accuracy: 0.9694\n",
      "Epoch 5/10\n",
      "1875/1875 [==============================] - 12s 6ms/step - loss: 0.0903 - accuracy: 0.9734\n",
      "Epoch 6/10\n",
      "1875/1875 [==============================] - 13s 7ms/step - loss: 0.0876 - accuracy: 0.9746\n",
      "Epoch 7/10\n",
      "1875/1875 [==============================] - 12s 6ms/step - loss: 0.0812 - accuracy: 0.9758\n",
      "Epoch 8/10\n",
      "1875/1875 [==============================] - 12s 6ms/step - loss: 0.0765 - accuracy: 0.9775\n",
      "Epoch 9/10\n",
      "1875/1875 [==============================] - 13s 7ms/step - loss: 0.0747 - accuracy: 0.9783\n",
      "Epoch 10/10\n",
      "1875/1875 [==============================] - 11s 6ms/step - loss: 0.0691 - accuracy: 0.9797\n"
     ]
    },
    {
     "data": {
      "text/plain": [
       "<tensorflow.python.keras.callbacks.History at 0x66e1d79d0>"
      ]
     },
     "execution_count": 10,
     "metadata": {},
     "output_type": "execute_result"
    }
   ],
   "source": [
    "#CREATING A MODEL IN TENSOR FLOW:\n",
    "\n",
    "#some data preprocessing (make sure your X data is between 0 and 1 by normalizing)\n",
    "X_train = x_train/255.0\n",
    "Y_train = y_train\n",
    "\n",
    "#declare the model, define each layer of the neural network\n",
    "deepMIND_AI = keras.Sequential([\n",
    "    #input layer(size of an element of X_train)\n",
    "    keras.layers.Dense(784),\n",
    "    #hidden layer(could have picked any size)\n",
    "    keras.layers.Dense(100,activation='relu'),\n",
    "    #layer that outputs our categorical distribution\n",
    "    keras.layers.Dense(10,activation='softmax')\n",
    "])\n",
    "\n",
    "#compile AKA set hyper-parameters\n",
    "deepMIND_AI.compile(\n",
    "    optimizer='Adam',\n",
    "    #This one is what makes this train a probability distribution, and perform CLASSIFICATION on unique output classes (ints)\n",
    "    loss='sparse_categorical_crossentropy',\n",
    "    metrics=['accuracy']\n",
    ")\n",
    "\n",
    "#and now, just fit it to the training data\n",
    "deepMIND_AI.fit(X_train,Y_train,epochs=10)"
   ]
  },
  {
   "cell_type": "code",
   "execution_count": 18,
   "metadata": {},
   "outputs": [
    {
     "name": "stdout",
     "output_type": "stream",
     "text": [
      "1563/1563 [==============================] - 4s 3ms/step - loss: 0.1685 - accuracy: 0.9662\n"
     ]
    }
   ],
   "source": [
    "#TESTING A MODEL IN TENSOR FLOW\n",
    "\n",
    "#process testing data\n",
    "x_test = qmnist['test_data']\n",
    "y_test = qmnist['test_labels']\n",
    "X_test = x_test / 255.0\n",
    "Y_test = y_test\n",
    "\n",
    "#and now test your model like this:\n",
    "test_loss,test_acc = deepMIND_AI.evaluate(X_test,Y_test)\n"
   ]
  },
  {
   "cell_type": "markdown",
   "metadata": {},
   "source": [
    "### Accuracy of 0.9662!!! (Note that the sklearn neural net had accuracy of 0.962 on the TRAINING data (TensorFlow is better!!))\n"
   ]
  },
  {
   "cell_type": "code",
   "execution_count": 21,
   "metadata": {},
   "outputs": [
    {
     "name": "stdout",
     "output_type": "stream",
     "text": [
      "<class 'tensorflow.python.eager.def_function.UnliftedInitializerVariable'>\n"
     ]
    }
   ],
   "source": [
    "# \"Vanilla\" neural network with 3 hidden layers \n"
   ]
  },
  {
   "cell_type": "code",
   "execution_count": null,
   "metadata": {},
   "outputs": [],
   "source": []
  }
 ],
 "metadata": {
  "kernelspec": {
   "display_name": "Python 3",
   "language": "python",
   "name": "python3"
  },
  "language_info": {
   "codemirror_mode": {
    "name": "ipython",
    "version": 3
   },
   "file_extension": ".py",
   "mimetype": "text/x-python",
   "name": "python",
   "nbconvert_exporter": "python",
   "pygments_lexer": "ipython3",
   "version": "3.7.4"
  }
 },
 "nbformat": 4,
 "nbformat_minor": 2
}
